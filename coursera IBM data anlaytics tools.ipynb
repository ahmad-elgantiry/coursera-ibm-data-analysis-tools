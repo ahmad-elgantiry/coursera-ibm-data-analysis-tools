{
 "cells": [
  {
   "cell_type": "markdown",
   "id": "0de0c382",
   "metadata": {},
   "source": [
    "# My Jupyter Notebook on IBM Watson Studio\n",
    "\n"
   ]
  },
  {
   "cell_type": "markdown",
   "id": "6ec95e98",
   "metadata": {},
   "source": [
    "**My name is ahmed elgantiry \n",
    "I am a data analyst**"
   ]
  },
  {
   "cell_type": "markdown",
   "id": "c925a1bf",
   "metadata": {},
   "source": [
    "*I am interested in data science because , I am looking to start a new career in data analytics*"
   ]
  },
  {
   "cell_type": "markdown",
   "id": "920051e9",
   "metadata": {},
   "source": [
    "### I will write a code to print \"hello coursera community\""
   ]
  },
  {
   "cell_type": "code",
   "execution_count": 1,
   "id": "1ced06e9",
   "metadata": {},
   "outputs": [
    {
     "name": "stdout",
     "output_type": "stream",
     "text": [
      "hello coursera community\n"
     ]
    }
   ],
   "source": [
    "print ( \"hello coursera community\")"
   ]
  },
  {
   "cell_type": "markdown",
   "id": "076c613a",
   "metadata": {},
   "source": [
    "i am inserting a hyperlink and a list of numbers \n",
    "<br>[www.coursera.org]\n",
    "* one \n",
    "* two \n",
    "* three\n",
    "\n"
   ]
  },
  {
   "cell_type": "code",
   "execution_count": null,
   "id": "cb5deb02",
   "metadata": {},
   "outputs": [],
   "source": []
  }
 ],
 "metadata": {
  "kernelspec": {
   "display_name": "Python 3 (ipykernel)",
   "language": "python",
   "name": "python3"
  },
  "language_info": {
   "codemirror_mode": {
    "name": "ipython",
    "version": 3
   },
   "file_extension": ".py",
   "mimetype": "text/x-python",
   "name": "python",
   "nbconvert_exporter": "python",
   "pygments_lexer": "ipython3",
   "version": "3.9.7"
  }
 },
 "nbformat": 4,
 "nbformat_minor": 5
}
